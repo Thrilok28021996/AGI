{
 "cells": [
  {
   "cell_type": "code",
   "execution_count": 1,
   "id": "6f75169f-6a66-4222-a94b-3ab8418134a1",
   "metadata": {},
   "outputs": [],
   "source": [
    "from langchain.prompts import PromptTemplate\n",
    "from langchain_experimental.smart_llm import SmartLLMChain\n",
    "from langchain_community.chat_models import ChatOllama"
   ]
  },
  {
   "cell_type": "code",
   "execution_count": 2,
   "id": "41c77b08-595a-406a-b124-4a2c7ea8a768",
   "metadata": {},
   "outputs": [],
   "source": [
    "hard_question = \"I have a 12 liter jug and a 6 liter jug. I want to measure 6 liters. How do I do it?\""
   ]
  },
  {
   "cell_type": "code",
   "execution_count": 3,
   "id": "7de9b683-bfd3-4a63-8384-94cf358fd5d6",
   "metadata": {},
   "outputs": [],
   "source": [
    "prompt = PromptTemplate.from_template(hard_question)\n",
    "# llm = ChatOpenAI(temperature=0, model_name=\"gpt-4\")\n",
    "llm = ChatOllama(model='qwen2', temperature=0)\n"
   ]
  },
  {
   "cell_type": "code",
   "execution_count": 4,
   "id": "bfc38019-6d6c-494a-a96a-b56f6f2837c1",
   "metadata": {},
   "outputs": [],
   "source": [
    "chain = SmartLLMChain(llm=llm, prompt=prompt, n_ideas=3, verbose=True)"
   ]
  },
  {
   "cell_type": "code",
   "execution_count": 5,
   "id": "c1a900aa-cf81-47e0-b06a-aed9925901d0",
   "metadata": {},
   "outputs": [
    {
     "name": "stdout",
     "output_type": "stream",
     "text": [
      "\n",
      "\n",
      "\u001b[1m> Entering new SmartLLMChain chain...\u001b[0m\n",
      "Prompt after formatting:\n",
      "\u001b[32;1m\u001b[1;3mI have a 12 liter jug and a 6 liter jug. I want to measure 6 liters. How do I do it?\u001b[0m\n",
      "Idea 1:\n",
      "\u001b[36;1m\u001b[1;3mTo measure exactly 6 liters using a 12-liter jug and a 6-liter jug, follow these steps:\n",
      "\n",
      "Step 1: Fill the 12-liter jug completely.\n",
      "\n",
      "Step 2: Pour water from the 12-liter jug into the 6-liter jug until it's full. This leaves you with 6 liters in the 12-liter jug (since the 6-liter jug can only hold up to that point).\n",
      "\n",
      "Step 3: Empty the 6-liter jug.\n",
      "\n",
      "Step 4: Pour the remaining 6 liters from the 12-liter jug into the empty 6-liter jug.\n",
      "\n",
      "Now, you have exactly 6 liters in the 6-liter jug.\u001b[0m\n",
      "Idea 2:\n",
      "\u001b[36;1m\u001b[1;3mTo measure exactly 6 liters using a 12-liter jug and a 6-liter jug, follow these steps:\n",
      "\n",
      "Step 1: Fill the 12-liter jug completely.\n",
      "\n",
      "Step 2: Pour water from the 12-liter jug into the 6-liter jug until it's full. This leaves you with 6 liters in the 12-liter jug (since the 6-liter jug can only hold up to that point).\n",
      "\n",
      "Step 3: Empty the 6-liter jug.\n",
      "\n",
      "Step 4: Pour the remaining 6 liters from the 12-liter jug into the empty 6-liter jug.\n",
      "\n",
      "Now, you have exactly 6 liters in the 6-liter jug.\u001b[0m\n",
      "Idea 3:\n",
      "\u001b[36;1m\u001b[1;3mTo measure exactly 6 liters using a 12-liter jug and a 6-liter jug, follow these steps:\n",
      "\n",
      "Step 1: Fill the 12-liter jug completely.\n",
      "\n",
      "Step 2: Pour water from the 12-liter jug into the 6-liter jug until it's full. This leaves you with 6 liters in the 12-liter jug (since the 6-liter jug can only hold up to that point).\n",
      "\n",
      "Step 3: Empty the 6-liter jug.\n",
      "\n",
      "Step 4: Pour the remaining 6 liters from the 12-liter jug into the empty 6-liter jug.\n",
      "\n",
      "Now, you have exactly 6 liters in the 6-liter jug.\u001b[0m\n",
      "Critique:\n",
      "\u001b[33;1m\u001b[1;3mTo provide an accurate analysis, I'll need to know the three response options you're referring to. However, since they are not specified here, let me create hypothetical scenarios for three different situations and then identify potential flaws or faulty logic in each of those responses.\n",
      "\n",
      "### Scenario 1: Responding to a Survey Question about Personal Preferences\n",
      "\n",
      "**Response Option A:** \"I prefer chocolate ice cream over vanilla.\"\n",
      "\n",
      "**Flaws/Faulty Logic:**\n",
      "1. **Subjectivity Bias:** This response assumes that personal preference is the only factor considered, which might not be universally applicable or relevant in certain contexts (e.g., dietary restrictions).\n",
      "2. **Lack of Context:** The statement does not provide any context about why chocolate ice cream is preferred over vanilla, such as taste preferences, cultural significance, or availability.\n",
      "\n",
      "### Scenario 2: Analyzing a Study on Consumer Behavior\n",
      "\n",
      "**Response Option B:** \"The study shows that increasing the price of a product leads to higher sales.\"\n",
      "\n",
      "**Flaws/Faulty Logic:**\n",
      "1. **Misinterpretation of Data:** This response might be based on incorrect data interpretation, assuming that higher prices always lead to more sales without considering other factors like market demand or consumer perception.\n",
      "2. **Neglecting External Factors:** It doesn't account for external variables such as competition pricing strategies, economic conditions, or marketing efforts which could influence sales.\n",
      "\n",
      "### Scenario 3: Evaluating a Research Study on Educational Outcomes\n",
      "\n",
      "**Response Option C:** \"The study concludes that implementing technology in classrooms significantly improves student performance.\"\n",
      "\n",
      "**Flaws/Faulty Logic:**\n",
      "1. **Overgeneralization:** This response might overlook the complexity of educational outcomes, which can be influenced by multiple factors including teacher quality, curriculum effectiveness, and individual student needs.\n",
      "2. **Lack of Quantitative Data:** Without specific data points or statistical analysis to support the conclusion, this statement could be based on anecdotal evidence rather than empirical research.\n",
      "\n",
      "Each response option has potential flaws that could affect its validity or applicability in different contexts. Identifying these issues is crucial for ensuring accurate conclusions and effective decision-making.\u001b[0m\n",
      "Resolution:\n",
      "\u001b[32;1m\u001b[1;3mTo provide an accurate response, I need you to specify which of the three hypothetical scenarios and corresponding answer options you're referring to. Without that information, it's impossible for me to determine which option was considered best or improve upon any specific answer.\n",
      "\n",
      "However, assuming you've already identified one scenario and its respective answer options as being the most relevant, here's how I would proceed:\n",
      "\n",
      "### Step 3: Full Answer\n",
      "\n",
      "Let's say we're discussing Scenario 1 about personal preferences (chocolate vs. vanilla ice cream). If the researcher considered Response Option A (\"I prefer chocolate ice cream over vanilla\") to be the best among the options provided, and assuming that this response was chosen because it directly addresses the question with a clear preference without introducing biases or oversimplifications:\n",
      "\n",
      "**Full Answer:**\n",
      "\n",
      "\"I prefer chocolate ice cream over vanilla because I find its rich flavor more satisfying. Chocolate ice cream offers a deeper taste experience compared to vanilla, which can sometimes be too simple for my palate.\"\n",
      "\n",
      "This answer not only states the preference but also provides a rationale that could help others understand why this particular choice was made. It avoids subjective biases by being specific about what makes chocolate ice cream preferable and acknowledges its distinct flavor profile.\n",
      "\n",
      "Please provide more details if you need assistance with another scenario or answer option.\u001b[0m\n",
      "\n",
      "\u001b[1m> Finished chain.\u001b[0m\n"
     ]
    },
    {
     "data": {
      "text/plain": [
       "{'resolution': 'To provide an accurate response, I need you to specify which of the three hypothetical scenarios and corresponding answer options you\\'re referring to. Without that information, it\\'s impossible for me to determine which option was considered best or improve upon any specific answer.\\n\\nHowever, assuming you\\'ve already identified one scenario and its respective answer options as being the most relevant, here\\'s how I would proceed:\\n\\n### Step 3: Full Answer\\n\\nLet\\'s say we\\'re discussing Scenario 1 about personal preferences (chocolate vs. vanilla ice cream). If the researcher considered Response Option A (\"I prefer chocolate ice cream over vanilla\") to be the best among the options provided, and assuming that this response was chosen because it directly addresses the question with a clear preference without introducing biases or oversimplifications:\\n\\n**Full Answer:**\\n\\n\"I prefer chocolate ice cream over vanilla because I find its rich flavor more satisfying. Chocolate ice cream offers a deeper taste experience compared to vanilla, which can sometimes be too simple for my palate.\"\\n\\nThis answer not only states the preference but also provides a rationale that could help others understand why this particular choice was made. It avoids subjective biases by being specific about what makes chocolate ice cream preferable and acknowledges its distinct flavor profile.\\n\\nPlease provide more details if you need assistance with another scenario or answer option.'}"
      ]
     },
     "execution_count": 5,
     "metadata": {},
     "output_type": "execute_result"
    }
   ],
   "source": [
    "chain.invoke({})"
   ]
  },
  {
   "cell_type": "code",
   "execution_count": 9,
   "id": "f462708f-71c0-482b-8a8f-c7e2327589d0",
   "metadata": {},
   "outputs": [],
   "source": [
    "chain = SmartLLMChain(\n",
    "    ideation_llm=ChatOllama(model='qwen2', temperature=0.9),\n",
    "    critique_llm=ChatOllama(model='qwen2', temperature=0.5),\n",
    "    resolver_llm=ChatOllama(model='qwen2', temperature=0.1),  # will be used for critique and resolution as no specific llms are given\n",
    "    prompt=prompt,\n",
    "    n_ideas=3,\n",
    "    verbose=True,\n",
    ")"
   ]
  },
  {
   "cell_type": "code",
   "execution_count": 10,
   "id": "9a4c0f94-1d0d-45fc-885e-b33169ecc6fc",
   "metadata": {},
   "outputs": [
    {
     "name": "stdout",
     "output_type": "stream",
     "text": [
      "\n",
      "\n",
      "\u001b[1m> Entering new SmartLLMChain chain...\u001b[0m\n",
      "Prompt after formatting:\n",
      "\u001b[32;1m\u001b[1;3mI have a 12 liter jug and a 6 liter jug. I want to measure 6 liters. How do I do it?\u001b[0m\n",
      "Idea 1:\n",
      "\u001b[36;1m\u001b[1;3mTo measure exactly 6 liters using a 12-liter jug and a 6-liter jug, follow these steps:\n",
      "\n",
      "Step 1:\n",
      "- Fill the 12-liter jug completely.\n",
      "\n",
      "Step 2:\n",
      "- Pour water from the 12-liter jug into the 6-liter jug until it's full. This uses up 6 liters of water (since the 6-liter jug can hold only 6 liters).\n",
      "\n",
      "Step 3:\n",
      "- Now, you should have exactly 6 liters in the 6-liter jug and the 12-liter jug is empty except for the remaining 6 liters from the initial filling.\n",
      "\n",
      "Step 4:\n",
      "- Empty the 6-liter jug.\n",
      "\n",
      "Step 5:\n",
      "- Pour the remaining 6 liters from the 12-liter jug into the 6-liter jug.\n",
      "\n",
      "You now have exactly 6 liters in the 6-liter jug, following these steps.\u001b[0m\n",
      "Idea 2:\n",
      "\u001b[36;1m\u001b[1;3mTo measure exactly 6 liters using a 12-liter jug and a 6-liter jug, follow these steps:\n",
      "\n",
      "Step 1: Fill the 12-liter jug completely with water.\n",
      "\n",
      "Step 2: Pour water from the 12-liter jug into the 6-liter jug until it is full. This leaves you with 6 liters of water in the 6-liter jug (since it can only hold up to 6 liters before overflowing).\n",
      "\n",
      "Now, you have measured exactly 6 liters using your jugs.\u001b[0m\n",
      "Idea 3:\n",
      "\u001b[36;1m\u001b[1;3mTo measure exactly 6 liters using a 12-liter jug and a 6-liter jug, follow these steps:\n",
      "\n",
      "Step 1: Fill the 12-liter jug completely.\n",
      "\n",
      "You start with both jugs empty. Pour water from the full 12-liter jug into the 6-liter jug until it's full. This uses up exactly 6 liters of water from the 12-liter jug, leaving you with 6 liters in the 6-liter jug and the other 6 liters back in the 12-liter jug.\n",
      "\n",
      "Step 2: Empty the 6-liter jug.\n",
      "\n",
      "You now have an empty 6-liter jug and 6 liters remaining in the 12-liter jug. By pouring out all of the water from the 6-liter jug, you prepare it to receive more water from the 12-liter jug.\n",
      "\n",
      "Step 3: Pour the remaining water back into the 12-liter jug.\n",
      "\n",
      "Pour the remaining 6 liters of water from the 12-liter jug back into it. This leaves you with an empty 6-liter jug and a full 12-liter jug again.\n",
      "\n",
      "Now, your 6-liter jug is ready to contain exactly 6 liters of water:\n",
      "\n",
      "Step 4: Fill the 6-liter jug directly.\n",
      "\n",
      "Since the 6-liter jug already contains no water after Step 2, you can fill it directly with water from any source until it reaches its full capacity. Now you have a perfect measure of exactly 6 liters in your 6-liter jug without needing to transfer water between jugs anymore.\u001b[0m\n",
      "Critique:\n",
      "\u001b[33;1m\u001b[1;3mTo provide an accurate analysis, it would be helpful if you could specify which three response options you are referring to. However, I'll create hypothetical scenarios based on common types of questions and responses to illustrate flaws and faulty logic that might occur in each option.\n",
      "\n",
      "### Option 1: \"The study results show a significant increase in productivity when working from home.\"\n",
      "\n",
      "**Flaws and Faulty Logic:**\n",
      "1. **Lack of Context:** Without specifying the type of work, duration of work-from-home periods, or other variables (like team size, industry, etc.), this statement assumes that all jobs benefit equally from remote work.\n",
      "2. **Overgeneralization:** It doesn't account for industries where remote work is not feasible or effective due to nature of tasks requiring physical presence.\n",
      "3. **Causal Inference:** The statement does not establish a causal link between working from home and productivity; other factors could influence productivity.\n",
      "\n",
      "### Option 2: \"The new policy will reduce traffic congestion by 50% within one year.\"\n",
      "\n",
      "**Flaws and Faulty Logic:**\n",
      "1. **Assumption of Immediate Impact:** This assumes that the reduction happens immediately without considering implementation delays, public awareness campaigns required for compliance, or other factors.\n",
      "2. **Overlooking Countermeasures:** It doesn't account for potential adjustments by drivers (like changing routes) or new forms of transportation like carpooling that could negate the policy's impact.\n",
      "3. **Lack of Baseline Data:** Without knowing what constitutes \"traffic congestion\" and how it is measured, it's hard to validate if a 50% reduction is realistic.\n",
      "\n",
      "### Option 3: \"Implementing AI in customer service will eliminate human jobs.\"\n",
      "\n",
      "**Flaws and Faulty Logic:**\n",
      "1. **Overstated Impact on Employment:** This assumes that AI can replace all human roles without considering tasks requiring empathy, creativity, or complex decision-making which AI currently struggles with.\n",
      "2. **Neglects Skill Development:** It doesn't address the potential for retraining humans to work alongside AI in more advanced service roles or other industries where AI is not yet applicable.\n",
      "3. **Short-Term Perspective:** This overlooks the long-term benefits of AI integration, such as increased efficiency and new job opportunities created by the technology.\n",
      "\n",
      "In each case, it's crucial to consider multiple factors and avoid making assumptions that can lead to faulty conclusions.\u001b[0m\n",
      "Resolution:\n",
      "\u001b[32;1m\u001b[1;3mStep 3:\n",
      "\n",
      "The researcher thought option 3 was the best because it directly addresses the issue at hand with clear and concise language that avoids any potential for misinterpretation or misunderstanding.\n",
      "\n",
      "Improvement:\n",
      "Option 3 could be improved by providing more context about the specific scenario being discussed, such as the industry, job roles involved, and the scale of implementation. This would help ensure that the answer is applicable to a wider range of situations and reduces the risk of overgeneralization.\n",
      "\n",
      "Full Answer:\n",
      "\"In order to effectively implement AI in customer service while minimizing negative impacts on human jobs, it's crucial to focus on augmenting rather than replacing human roles. By integrating AI for tasks such as handling routine inquiries or data entry, humans can be freed up to handle more complex issues that require empathy and critical thinking. This approach not only maintains the value of human expertise but also enhances overall efficiency by leveraging the strengths of both AI and human staff.\"\n",
      "\n",
      "This answer acknowledges the potential benefits of AI while also considering its limitations in certain contexts, thus providing a balanced perspective on the topic.\u001b[0m\n",
      "\n",
      "\u001b[1m> Finished chain.\u001b[0m\n"
     ]
    },
    {
     "data": {
      "text/plain": [
       "{'resolution': 'Step 3:\\n\\nThe researcher thought option 3 was the best because it directly addresses the issue at hand with clear and concise language that avoids any potential for misinterpretation or misunderstanding.\\n\\nImprovement:\\nOption 3 could be improved by providing more context about the specific scenario being discussed, such as the industry, job roles involved, and the scale of implementation. This would help ensure that the answer is applicable to a wider range of situations and reduces the risk of overgeneralization.\\n\\nFull Answer:\\n\"In order to effectively implement AI in customer service while minimizing negative impacts on human jobs, it\\'s crucial to focus on augmenting rather than replacing human roles. By integrating AI for tasks such as handling routine inquiries or data entry, humans can be freed up to handle more complex issues that require empathy and critical thinking. This approach not only maintains the value of human expertise but also enhances overall efficiency by leveraging the strengths of both AI and human staff.\"\\n\\nThis answer acknowledges the potential benefits of AI while also considering its limitations in certain contexts, thus providing a balanced perspective on the topic.'}"
      ]
     },
     "execution_count": 10,
     "metadata": {},
     "output_type": "execute_result"
    }
   ],
   "source": [
    "chain.invoke({})"
   ]
  },
  {
   "cell_type": "code",
   "execution_count": null,
   "id": "f3c82423-601d-4ae3-9598-6e842a81f5b7",
   "metadata": {},
   "outputs": [],
   "source": []
  }
 ],
 "metadata": {
  "kernelspec": {
   "display_name": "Python 3 (ipykernel)",
   "language": "python",
   "name": "python3"
  },
  "language_info": {
   "codemirror_mode": {
    "name": "ipython",
    "version": 3
   },
   "file_extension": ".py",
   "mimetype": "text/x-python",
   "name": "python",
   "nbconvert_exporter": "python",
   "pygments_lexer": "ipython3",
   "version": "3.12.3"
  }
 },
 "nbformat": 4,
 "nbformat_minor": 5
}
