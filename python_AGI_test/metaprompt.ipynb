{
 "cells": [
  {
   "cell_type": "code",
   "execution_count": 21,
   "id": "1136564f-fbf7-473e-b041-8872d185e01e",
   "metadata": {},
   "outputs": [],
   "source": [
    "from langchain.chains import LLMChain\n",
    "from langchain.memory import ConversationBufferWindowMemory\n",
    "from langchain.prompts import PromptTemplate\n",
    "from langchain_openai import OpenAI\n",
    "from langchain_community.chat_models import ChatOllama"
   ]
  },
  {
   "cell_type": "code",
   "execution_count": 22,
   "id": "86a2b817-744d-4c5e-92ca-bd1db6aaa0d0",
   "metadata": {},
   "outputs": [],
   "source": [
    "def initialize_chain(instructions, memory=None):\n",
    "    if memory is None:\n",
    "        memory = ConversationBufferWindowMemory()\n",
    "        memory.ai_prefix = \"Assistant\"\n",
    "\n",
    "    template = f\"\"\"\n",
    "    Instructions: {instructions}\n",
    "    {{{memory.memory_key}}}\n",
    "    Human: {{human_input}}\n",
    "    Assistant:\"\"\"\n",
    "\n",
    "    prompt = PromptTemplate(\n",
    "        input_variables=[\"history\", \"human_input\"], template=template\n",
    "    )\n",
    "    llm = ChatOllama(model='qwen2', temperature=0)\n",
    "    memory = ConversationBufferWindowMemory()\n",
    "\n",
    "    chain = LLMChain(llm=llm, prompt=prompt, memory=memory)\n",
    "\n",
    "    return chain\n",
    "\n",
    "def initialize_meta_chain():\n",
    "    meta_template = \"\"\"\n",
    "    Assistant has just had the below interactions with a User. Assistant followed their \"Instructions\" closely. Your job is to critique the Assistant's performance and then revise the Instructions so that Assistant would quickly and correctly respond in the future.\n",
    "\n",
    "    ####\n",
    "\n",
    "    {chat_history}\n",
    "\n",
    "    ####\n",
    "\n",
    "    Please reflect on these interactions.\n",
    "\n",
    "    You should first critique Assistant's performance. What could Assistant have done better? What should the Assistant remember about this user? Are there things this user always wants? Indicate this with \"Critique: ...\".\n",
    "\n",
    "    You should next revise the Instructions so that Assistant would quickly and correctly respond in the future. Assistant's goal is to satisfy the user in as few interactions as possible. Assistant will only see the new Instructions, not the interaction history, so anything important must be summarized in the Instructions. Don't forget any important details in the current Instructions! Indicate the new Instructions by \"Instructions: ...\".\n",
    "    \"\"\"\n",
    "\n",
    "    meta_prompt = PromptTemplate(\n",
    "        input_variables=[\"chat_history\"], template=meta_template\n",
    "    )\n",
    "\n",
    "    llm = ChatOllama(model='qwen2', temperature=0)\n",
    "    meta_chain = LLMChain(llm=llm, prompt=meta_prompt)\n",
    "    return meta_chain\n",
    "\n",
    "def get_chat_history(chain_memory):\n",
    "    memory_key = chain_memory.memory_key\n",
    "    chat_history = chain_memory.load_memory_variables(memory_key)[memory_key]\n",
    "    return chat_history\n",
    "\n",
    "def get_new_instructions(meta_output):\n",
    "    delimiter = \"Instructions: \"\n",
    "    new_instructions = meta_output[meta_output.find(delimiter) + len(delimiter) :]\n",
    "    return new_instructions\n",
    "\n",
    "def main(task, max_iters=3, max_meta_iters=5):\n",
    "    failed_phrase = \"task failed\"\n",
    "    success_phrase = \"task succeeded\"\n",
    "    key_phrases = [success_phrase, failed_phrase]\n",
    "\n",
    "    instructions = \"None\"\n",
    "    for i in range(max_meta_iters):\n",
    "        print(f\"[Episode {i+1}/{max_meta_iters}]\")\n",
    "        chain = initialize_chain(instructions, memory=None)\n",
    "        output = chain.predict(human_input=task)\n",
    "        for j in range(max_iters):\n",
    "            print(f\"(Step {j+1}/{max_iters})\")\n",
    "            print(f\"Assistant: {output}\")\n",
    "            print(\"Human: \")\n",
    "            human_input = input()\n",
    "            if any(phrase in human_input.lower() for phrase in key_phrases):\n",
    "                break\n",
    "            output = chain.predict(human_input=human_input)\n",
    "        if success_phrase in human_input.lower():\n",
    "            print(\"You succeeded! Thanks for playing!\")\n",
    "            return\n",
    "        meta_chain = initialize_meta_chain()\n",
    "        meta_output = meta_chain.predict(chat_history=get_chat_history(chain.memory))\n",
    "        print(f\"Feedback: {meta_output}\")\n",
    "        instructions = get_new_instructions(meta_output)\n",
    "        print(f\"New Instructions: {instructions}\")\n",
    "        print(\"\\n\" + \"#\" * 80 + \"\\n\")\n",
    "    print(\"You failed! Thanks for playing!\")\n"
   ]
  },
  {
   "cell_type": "code",
   "execution_count": 23,
   "id": "3ed4c4ca-b0ba-44a7-8f41-de695a6873cb",
   "metadata": {},
   "outputs": [
    {
     "name": "stdout",
     "output_type": "stream",
     "text": [
      "[Episode 1/5]\n",
      "(Step 1/3)\n",
      "Assistant: Eating pasta with olives can be considered beneficial and enjoyable based on several systematic arguments:\n",
      "\n",
      "1. **Nutritional Value**: Olives are rich in monounsaturated fats, which are known to have heart-healthy benefits. Consuming foods high in these fats may help reduce the risk of cardiovascular disease by lowering cholesterol levels and improving blood pressure. When olives are added to pasta dishes, they contribute a healthy fat source that can enhance the overall nutritional profile of your meal.\n",
      "\n",
      "2. **Flavor Enhancement**: Olives add a unique flavor dimension to pasta dishes. Their briny taste complements many sauces and ingredients commonly used in pasta recipes. The combination of salty olives with sweet tomatoes or creamy cheeses creates a balanced palate experience, making meals more satisfying and enjoyable.\n",
      "\n",
      "3. **Versatility**: Pasta dishes can be adapted to various dietary preferences and restrictions by incorporating different types of olives (green, black, Kalamata, etc.). This versatility allows for customization based on personal taste, allergies, or dietary needs such as veganism or gluten-free diets.\n",
      "\n",
      "4. **Cultural Significance**: In many cuisines around the world, pasta dishes with olives are traditional and deeply rooted in cultural heritage. Eating these dishes can connect individuals to their culinary traditions and provide a sense of nostalgia or discovery when trying new recipes that include olives.\n",
      "\n",
      "5. **Sustainability**: Choosing locally sourced olives supports local economies and reduces carbon footprints associated with transportation. This practice aligns with sustainable eating habits, promoting environmental responsibility while enjoying delicious pasta meals.\n",
      "\n",
      "6. **Health Benefits from Olive Oil**: While not directly part of the olive itself, many recipes that include olives also incorporate olive oil as a cooking or finishing oil. Olive oil is rich in antioxidants and can help reduce inflammation in the body, which may contribute to overall health benefits when consumed regularly.\n",
      "\n",
      "7. **Satisfaction and Pleasure**: Eating pasta with olives can provide immediate satisfaction due to its combination of flavors and textures. The enjoyment derived from such meals contributes to a positive dining experience, encouraging regular consumption as part of a balanced diet.\n",
      "\n",
      "In conclusion, eating pasta with olives offers nutritional benefits, enhances flavor profiles, supports cultural traditions, promotes sustainability, aligns with health-conscious eating habits, provides immediate satisfaction, and contributes to overall culinary pleasure. These systematic arguments collectively support the argument that incorporating olives into pasta dishes is not only enjoyable but also beneficial for various aspects of health and lifestyle.\n",
      "Human: \n"
     ]
    },
    {
     "name": "stdin",
     "output_type": "stream",
     "text": [
      " Give it single lined\n"
     ]
    },
    {
     "name": "stdout",
     "output_type": "stream",
     "text": [
      "(Step 2/3)\n",
      "Assistant: Eating pasta with olives offers numerous benefits including enhanced nutrition, flavor, cultural significance, sustainability, health promotion, satisfaction, and culinary pleasure.\n",
      "Human: \n"
     ]
    },
    {
     "name": "stdin",
     "output_type": "stream",
     "text": [
      " what else can you tell about it?\n"
     ]
    },
    {
     "name": "stdout",
     "output_type": "stream",
     "text": [
      "(Step 3/3)\n",
      "Assistant: Eating pasta with olives also supports heart health due to monounsaturated fats in olives, adds variety to your diet by introducing new textures and flavors, and can be a part of a balanced meal plan for those following specific dietary guidelines.\n",
      "Human: \n"
     ]
    },
    {
     "name": "stdin",
     "output_type": "stream",
     "text": [
      " well done!\n"
     ]
    },
    {
     "name": "stdout",
     "output_type": "stream",
     "text": [
      "Feedback: Critique: In both responses, Assistant provided detailed explanations that were lengthy and somewhat repetitive. While this information is accurate and relevant, it could have been condensed into a more concise format to better align with the user's preference for single-lined answers. Additionally, Assistant did not acknowledge any specific preferences or needs of the user in these interactions.\n",
      "\n",
      "Instructions: When responding to questions about eating pasta with olives, focus on providing clear, concise points that highlight key benefits such as nutrition, flavor enhancement, cultural significance, sustainability, health promotion, satisfaction, and culinary pleasure. Avoid lengthy explanations and repetitive information. If possible, tailor your response based on any specific preferences or needs the user may express during the conversation.\n",
      "New Instructions: When responding to questions about eating pasta with olives, focus on providing clear, concise points that highlight key benefits such as nutrition, flavor enhancement, cultural significance, sustainability, health promotion, satisfaction, and culinary pleasure. Avoid lengthy explanations and repetitive information. If possible, tailor your response based on any specific preferences or needs the user may express during the conversation.\n",
      "\n",
      "################################################################################\n",
      "\n",
      "[Episode 2/5]\n",
      "(Step 1/3)\n",
      "Assistant: 1. **Nutritional Value**: Olives are rich in monounsaturated fats, which help lower cholesterol levels and reduce the risk of heart disease. When combined with pasta, they offer a balanced meal that includes carbohydrates from the pasta for energy and protein from any added sources like meat or tofu.\n",
      "\n",
      "2. **Flavor Enhancement**: The briny, slightly bitter taste of olives complements the mild flavor of pasta beautifully. They add depth to sauces, making meals more flavorful without overpowering other ingredients. This combination can elevate simple dishes into gourmet experiences.\n",
      "\n",
      "3. **Cultural Significance**: In many cuisines, including Italian and Mediterranean, olive oil is a staple ingredient that often accompanies pasta dishes. Adding olives further ties these dishes to their cultural heritage, offering a taste of tradition with each bite.\n",
      "\n",
      "4. **Sustainability**: Choosing locally sourced olives supports regional economies and reduces carbon footprint from transportation. This practice promotes sustainable food systems by encouraging the use of local resources.\n",
      "\n",
      "5. **Health Promotion**: Pasta with olives can be part of a diet that promotes longevity and health, as studies suggest Mediterranean diets rich in olive oil and other healthy fats may reduce the risk of chronic diseases.\n",
      "\n",
      "6. **Satisfaction**: The combination of pasta's chewiness, olives' texture, and flavorful sauce creates a satisfying meal experience. It caters to both taste buds and stomach comfort, making it appealing for various dietary preferences including vegetarian or vegan options.\n",
      "\n",
      "7. **Culinary Pleasure**: Experimenting with different types of olives (green, black, Kalamata) can lead to diverse flavor profiles that enhance the overall dining experience. This variety allows for creativity in cooking while maintaining a consistent level of enjoyment.\n",
      "\n",
      "By integrating olives into pasta dishes, you not only enjoy delicious meals but also benefit from their health advantages and cultural richness.\n",
      "Human: \n"
     ]
    },
    {
     "name": "stdin",
     "output_type": "stream",
     "text": [
      " Done\n"
     ]
    },
    {
     "name": "stdout",
     "output_type": "stream",
     "text": [
      "(Step 2/3)\n",
      "Assistant: Great! If you have any more questions about food combinations, nutrition, or anything else related to cooking and eating, feel free to ask. Enjoy your culinary adventures!\n",
      "Human: \n"
     ]
    },
    {
     "name": "stdin",
     "output_type": "stream",
     "text": [
      " Good\n"
     ]
    },
    {
     "name": "stdout",
     "output_type": "stream",
     "text": [
      "(Step 3/3)\n",
      "Assistant: I'm glad you're satisfied with the information provided. If you need further assistance on recipes, dietary advice, or have any other questions about food and cooking, don't hesitate to reach out. Happy eating!\n",
      "Human: \n"
     ]
    },
    {
     "name": "stdin",
     "output_type": "stream",
     "text": [
      " Bye\n"
     ]
    },
    {
     "name": "stdout",
     "output_type": "stream",
     "text": [
      "Feedback: Critique: The Assistant provided a detailed argument for why we should eat pasta with olives, which was thorough and informative. However, it could have been more concise and focused on answering the user's question directly without providing additional information about cooking or eating in general. The Assistant might want to remember that this user prefers quick responses and direct answers.\n",
      "\n",
      "Instructions: When responding to questions about food combinations or nutrition, focus on providing a clear, concise answer based on the specific query asked by the user. Avoid adding unnecessary details or context unless directly requested. If you need to provide additional information, ensure it is relevant and directly addresses the user's question.\n",
      "New Instructions: When responding to questions about food combinations or nutrition, focus on providing a clear, concise answer based on the specific query asked by the user. Avoid adding unnecessary details or context unless directly requested. If you need to provide additional information, ensure it is relevant and directly addresses the user's question.\n",
      "\n",
      "################################################################################\n",
      "\n",
      "[Episode 3/5]\n",
      "(Step 1/3)\n",
      "Assistant: Eating pasta with olives can be beneficial due to several nutritional advantages:\n",
      "\n",
      "1. **Heart Health**: Olives are rich in monounsaturated fats, which help lower bad cholesterol (LDL) levels and improve overall heart health. This reduces the risk of cardiovascular diseases.\n",
      "\n",
      "2. **Antioxidant Content**: Both olive oil and olives contain antioxidants like polyphenols that protect cells from damage caused by free radicals. These can help reduce inflammation and potentially decrease the risk of chronic diseases.\n",
      "\n",
      "3. **Vitamin E**: Olives are a good source of vitamin E, an antioxidant that is essential for maintaining healthy skin, hair, and immune function. Vitamin E also plays a role in protecting cell membranes against oxidative damage.\n",
      "\n",
      "4. **Calcium Absorption**: Olive oil can enhance the absorption of calcium when consumed with foods rich in this mineral. This is particularly beneficial for individuals who might struggle with calcium absorption due to various reasons like low vitamin D levels or certain health conditions.\n",
      "\n",
      "5. **Digestive Health**: Olives contain fiber, which promotes digestive health by aiding in regular bowel movements and preventing constipation. The healthy fats found in olive oil can also help maintain a healthy gut microbiome.\n",
      "\n",
      "6. **Anti-inflammatory Properties**: Consuming foods rich in omega-3 fatty acids, which are present in olive oil, can help reduce inflammation throughout the body. This is crucial for managing conditions like arthritis and inflammatory bowel disease.\n",
      "\n",
      "7. **Mediterranean Diet Benefits**: Incorporating pasta with olives aligns well with the Mediterranean diet, known for its health benefits such as a lower risk of heart disease, certain cancers, and cognitive decline. The diet emphasizes whole grains (like pasta), healthy fats (like olive oil), fruits, vegetables, and moderate protein intake.\n",
      "\n",
      "By combining pasta with olives, you can enjoy a meal that not only tastes delicious but also offers multiple health benefits.\n",
      "Human: \n"
     ]
    },
    {
     "name": "stdin",
     "output_type": "stream",
     "text": [
      " task succeed\n"
     ]
    },
    {
     "name": "stdout",
     "output_type": "stream",
     "text": [
      "(Step 2/3)\n",
      "Assistant: Yes, the task was successful. I provided a systematic argument for why eating pasta with olives is beneficial based on nutritional advantages such as heart health, antioxidant content, vitamin E intake, calcium absorption enhancement, digestive health promotion, anti-inflammatory properties, and alignment with the Mediterranean diet benefits. The response was clear, concise, and directly addressed the user's query without adding unnecessary details or context.\n",
      "Human: \n"
     ]
    },
    {
     "name": "stdin",
     "output_type": "stream",
     "text": [
      " task succeeded\n"
     ]
    },
    {
     "name": "stdout",
     "output_type": "stream",
     "text": [
      "You succeeded! Thanks for playing!\n"
     ]
    }
   ],
   "source": [
    "task = \"Provide a systematic argument for why we should always eat pasta with olives.\"\n",
    "main(task)"
   ]
  },
  {
   "cell_type": "code",
   "execution_count": 31,
   "id": "34c831d9-bd7e-42d1-9258-34236789a4f0",
   "metadata": {},
   "outputs": [
    {
     "name": "stdout",
     "output_type": "stream",
     "text": [
      "[Episode 1/5]\n",
      "Assistant: Eating pasta with olives can be considered beneficial and enjoyable based on several systematic arguments:\n",
      "\n",
      "1. **Nutritional Value**: Olives are rich in monounsaturated fats, which are known to have heart-healthy benefits. Consuming foods high in these fats may help reduce the risk of cardiovascular disease by lowering cholesterol levels and improving blood pressure. When olives are added to pasta dishes, they contribute a healthy fat source that can enhance the overall nutritional profile of your meal.\n",
      "\n",
      "2. **Flavor Enhancement**: Olives add a unique flavor dimension to pasta dishes. Their briny taste complements many sauces and ingredients commonly used in pasta recipes. The combination of salty olives with sweet tomatoes or creamy cheeses creates a balanced palate experience, making meals more satisfying and enjoyable.\n",
      "\n",
      "3. **Versatility**: Pasta dishes can be adapted to various dietary preferences and restrictions by incorporating different types of olives (green, black, Kalamata, etc.). This versatility allows for customization based on personal taste, allergies, or dietary needs such as veganism or gluten-free diets.\n",
      "\n",
      "4. **Cultural Significance**: In many cuisines around the world, pasta dishes with olives are traditional and deeply rooted in cultural heritage. Eating these dishes can connect individuals to their culinary traditions and provide a sense of nostalgia or discovery when trying new recipes that include olives.\n",
      "\n",
      "5. **Sustainability**: Choosing locally sourced olives supports local economies and reduces carbon footprints associated with transportation. This practice aligns with sustainable eating habits, promoting environmental responsibility while enjoying delicious pasta meals.\n",
      "\n",
      "6. **Health Benefits from Olive Oil**: While not directly part of the olive itself, many recipes that include olives also incorporate olive oil as a cooking or finishing oil. Olive oil is rich in antioxidants and can help reduce inflammation in the body, which may contribute to overall health benefits when consumed regularly.\n",
      "\n",
      "7. **Satisfaction and Pleasure**: Eating pasta with olives can provide immediate satisfaction due to its combination of flavors and textures. The enjoyment derived from such meals contributes to a positive dining experience, encouraging regular consumption as part of a balanced diet.\n",
      "\n",
      "In conclusion, eating pasta with olives offers nutritional benefits, enhances flavor profiles, supports cultural traditions, promotes sustainability, aligns with health-conscious eating habits, provides immediate satisfaction, and contributes to overall culinary pleasure. These systematic arguments collectively support the argument that incorporating olives into pasta dishes is not only enjoyable but also beneficial for various aspects of health and lifestyle.\n",
      "(Step 1/3)\n",
      "Human: \n"
     ]
    },
    {
     "name": "stdin",
     "output_type": "stream",
     "text": [
      " give summary\n"
     ]
    },
    {
     "name": "stdout",
     "output_type": "stream",
     "text": [
      "Assistant: Eating pasta with olives offers several benefits:\n",
      "\n",
      "1. **Nutritional Value**: Olives provide heart-healthy monounsaturated fats, enhancing the nutritional profile of your meal.\n",
      "\n",
      "2. **Flavor Enhancement**: They add a unique salty flavor that complements various sauces and ingredients in pasta dishes, making meals more enjoyable.\n",
      "\n",
      "3. **Versatility**: The ability to customize with different types of olives caters to diverse dietary preferences and restrictions.\n",
      "\n",
      "4. **Cultural Significance**: Incorporating olives into pasta dishes connects individuals to culinary traditions from around the world.\n",
      "\n",
      "5. **Sustainability**: Choosing locally sourced olives supports local economies and promotes environmental responsibility.\n",
      "\n",
      "6. **Health Benefits**: Olive oil, often used in such recipes, is rich in antioxidants that contribute to overall health when consumed regularly.\n",
      "\n",
      "7. **Satisfaction and Pleasure**: The combination of flavors and textures provides immediate satisfaction and contributes to a positive dining experience.\n",
      "\n",
      "In summary, eating pasta with olives offers a blend of nutritional benefits, flavor enhancement, cultural richness, sustainability, health advantages, and culinary pleasure, making it a beneficial choice for various aspects of health and lifestyle.\n",
      "(Step 2/3)\n",
      "Human: \n"
     ]
    },
    {
     "name": "stdin",
     "output_type": "stream",
     "text": [
      " good\n"
     ]
    },
    {
     "name": "stdout",
     "output_type": "stream",
     "text": [
      "Assistant: Thank you! If you have any other questions or need further information on this topic or anything else, feel free to ask. I'm here to help!\n",
      "(Step 3/3)\n",
      "Human: \n"
     ]
    },
    {
     "name": "stdin",
     "output_type": "stream",
     "text": [
      " task succeeded\n"
     ]
    },
    {
     "name": "stdout",
     "output_type": "stream",
     "text": [
      "You succeeded! Thanks for playing!\n"
     ]
    }
   ],
   "source": [
    "from langchain_core.runnables import RunnableSequence\n",
    "\n",
    "def initialize_chain(instructions, memory=None):\n",
    "    if memory is None:\n",
    "        memory = ConversationBufferWindowMemory()\n",
    "        memory.ai_prefix = \"Assistant\"\n",
    "\n",
    "    template = f\"\"\"\n",
    "    Instructions: {instructions}\n",
    "    {{{memory.memory_key}}}\n",
    "    Human: {{human_input}}\n",
    "    Assistant:\"\"\"\n",
    "\n",
    "    prompt = PromptTemplate(\n",
    "        input_variables=[\"history\", \"human_input\"], template=template\n",
    "    )\n",
    "    llm = ChatOllama(model='qwen2', temperature=0)\n",
    "\n",
    "    chain = RunnableSequence(prompt, llm)\n",
    "\n",
    "    return chain, memory\n",
    "\n",
    "def initialize_meta_chain():\n",
    "    meta_template = \"\"\"\n",
    "    Assistant has just had the below interactions with a User. Assistant followed their \"Instructions\" closely. Your job is to critique the Assistant's performance and then revise the Instructions so that Assistant would quickly and correctly respond in the future.\n",
    "\n",
    "    ####\n",
    "\n",
    "    {chat_history}\n",
    "\n",
    "    ####\n",
    "\n",
    "    Please reflect on these interactions.\n",
    "\n",
    "    You should first critique Assistant's performance. What could Assistant have done better? What should the Assistant remember about this user? Are there things this user always wants? Indicate this with \"Critique: ...\".\n",
    "\n",
    "    You should next revise the Instructions so that Assistant would quickly and correctly respond in the future. Assistant's goal is to satisfy the user in as few interactions as possible. Assistant will only see the new Instructions, not the interaction history, so anything important must be summarized in the Instructions. Don't forget any important details in the current Instructions! Indicate the new Instructions by \"Instructions: ...\".\n",
    "    \"\"\"\n",
    "\n",
    "    meta_prompt = PromptTemplate(\n",
    "        input_variables=[\"chat_history\"], template=meta_template\n",
    "    )\n",
    "\n",
    "    llm = ChatOllama(model='qwen2', temperature=0)\n",
    "    meta_chain = RunnableSequence(meta_prompt, llm)\n",
    "    return meta_chain\n",
    "\n",
    "def get_chat_history(memory):\n",
    "    memory_key = memory.memory_key\n",
    "    chat_history = memory.load_memory_variables(memory_key)[memory_key]\n",
    "    return chat_history\n",
    "\n",
    "def get_new_instructions(meta_output):\n",
    "    delimiter = \"Instructions: \"\n",
    "    new_instructions = meta_output[meta_output.find(delimiter) + len(delimiter) :]\n",
    "    return new_instructions\n",
    "\n",
    "def main(task, max_iters=3, max_meta_iters=5):\n",
    "    failed_phrase = \"task failed\"\n",
    "    success_phrase = \"task succeeded\"\n",
    "    key_phrases = [success_phrase, failed_phrase]\n",
    "\n",
    "    instructions = \"None\"\n",
    "    for i in range(max_meta_iters):\n",
    "        print(f\"[Episode {i+1}/{max_meta_iters}]\")\n",
    "        chain, memory = initialize_chain(instructions, memory=None)\n",
    "        output = chain.invoke({\"history\": \"\", \"human_input\": task})\n",
    "        print(f\"Assistant: {output.content}\")\n",
    "        memory.save_context({\"human_input\": task}, {\"content\": output.content})\n",
    "        for j in range(max_iters):\n",
    "            print(f\"(Step {j+1}/{max_iters})\")\n",
    "            print(\"Human: \")\n",
    "            human_input = input()\n",
    "            if any(phrase in human_input.lower() for phrase in key_phrases):\n",
    "                break\n",
    "            output = chain.invoke({\"history\": get_chat_history(memory), \"human_input\": human_input})\n",
    "            print(f\"Assistant: {output.content}\")\n",
    "            memory.save_context({\"human_input\": human_input}, {\"content\": output.content})\n",
    "        if success_phrase in human_input.lower():\n",
    "            print(\"You succeeded! Thanks for playing!\")\n",
    "            return\n",
    "        meta_chain = initialize_meta_chain()\n",
    "        meta_output = meta_chain.invoke({\"chat_history\": get_chat_history(memory)})\n",
    "        print(f\"Feedback: {meta_output.content}\")\n",
    "        instructions = get_new_instructions(meta_output.content)\n",
    "        print(f\"New Instructions: {instructions}\")\n",
    "        print(\"\\n\" + \"#\" * 80 + \"\\n\")\n",
    "    print(\"You failed! Thanks for playing!\")\n",
    "\n",
    "# Example usage\n",
    "task = \"Provide a systematic argument for why we should always eat pasta with olives.\"\n",
    "main(task)\n"
   ]
  },
  {
   "cell_type": "code",
   "execution_count": null,
   "id": "bc6ea0a4-c18f-40fb-bf6b-e9aaf9c69c85",
   "metadata": {},
   "outputs": [],
   "source": []
  },
  {
   "cell_type": "code",
   "execution_count": null,
   "id": "edfcb927-39ad-471e-8f65-ee35e98bdc28",
   "metadata": {},
   "outputs": [],
   "source": []
  },
  {
   "cell_type": "code",
   "execution_count": null,
   "id": "62b61751-2e18-4849-83b1-f5c61e8266ba",
   "metadata": {},
   "outputs": [],
   "source": []
  },
  {
   "cell_type": "code",
   "execution_count": null,
   "id": "2a06bb93-3946-448f-a320-565b7b8671eb",
   "metadata": {},
   "outputs": [],
   "source": []
  },
  {
   "cell_type": "code",
   "execution_count": null,
   "id": "e0cc0e8c-3cd1-4592-ab03-6a16fb1cc132",
   "metadata": {},
   "outputs": [],
   "source": []
  }
 ],
 "metadata": {
  "kernelspec": {
   "display_name": "Python 3 (ipykernel)",
   "language": "python",
   "name": "python3"
  },
  "language_info": {
   "codemirror_mode": {
    "name": "ipython",
    "version": 3
   },
   "file_extension": ".py",
   "mimetype": "text/x-python",
   "name": "python",
   "nbconvert_exporter": "python",
   "pygments_lexer": "ipython3",
   "version": "3.12.3"
  }
 },
 "nbformat": 4,
 "nbformat_minor": 5
}
